{
 "cells": [
  {
   "cell_type": "code",
   "execution_count": 1,
   "metadata": {},
   "outputs": [],
   "source": [
    "from spectral import *\n",
    "import matplotlib.pyplot as plt\n",
    "from mpl_toolkits.mplot3d import Axes3D\n",
    "import numpy as np\n",
    "import scipy.constants as constants\n",
    "import img\n",
    "import pandas as pd\n",
    "from tqdm.auto import tqdm\n",
    "from tqdm.notebook import tqdm_notebook\n",
    "from itertools import islice\n",
    "\n",
    "def load_flux(fluxname):\n",
    "\n",
    "    with open(fluxname, 'r') as file:\n",
    "        data = file.readlines()\n",
    "        #print(data)\n",
    "        size = len(data)\n",
    "        #print(size)\n",
    "        flux = np.zeros(size)\n",
    "        wavelengths = np.zeros(size)\n",
    "        for i in range(size):\n",
    "            flux[i]=(float(data[i].strip().split(\" ,\")[1]))\n",
    "            wavelengths[i]=(float(data[i].strip().split(\",\")[0]))\n",
    "\n",
    "    return flux,wavelengths\n",
    "\n",
    "\n",
    "\n",
    "def load_hdr(filename):\n",
    "    img = envi.open(filename)\n",
    "    datafile = img.open_memmap(writeable = False)\n",
    "    \n",
    "    return datafile\n",
    "\n",
    "\n",
    "def load_rdn(filename):\n",
    "    data = np.load(filename)\n",
    "    return data\n",
    "\n",
    "\n",
    "def get_metadata(filename):\n",
    "    img = envi.open(filename)\n",
    "    img_data = img.open_memmap(writeable = False)\n",
    "    metadata = envi.read_envi_header(filename)\n",
    "    metadata_df = pd.DataFrame.from_dict(metadata, orient='index', columns=['Value'])\n",
    "    band_names = metadata_df.loc['band names', 'Value']\n",
    "    bandnames = band_names\n",
    "    reshape_array = img_data.reshape(-1, img_data.shape[-1])\n",
    "    df = pd.DataFrame(reshape_array)\n",
    "    df.columns = band_names\n",
    "    return df\n",
    "\n",
    "\n",
    "def get_phase_angle(datafile):\n",
    "    phase_angle = np.empty(datafile.shape[:-1])\n",
    "    \n",
    "    for i in range(len(datafile)):\n",
    "        for j in range(len(datafile[i])):\n",
    "            for k in  range(len(datafile[i,j])):\n",
    "                phase_angle[i,j] = datafile[i,j,4]\n",
    "    phase_angle = phase_angle.reshape((phase_angle.shape[0], phase_angle.shape[1], 1))\n",
    "    \n",
    "    return phase_angle\n",
    "\n",
    "def get_i(datafile):\n",
    "    angle_i = np.empty(datafile.shape[:-1])\n",
    "    \n",
    "    for i in range(len(datafile)):\n",
    "        for j in range(len(datafile[i])):\n",
    "            for k in  range(len(datafile[i,j])):\n",
    "                angle_i[i,j] = datafile[i,j,1]\n",
    "    angle_i = angle_i.reshape((angle_i.shape[0], angle_i.shape[1], 1))\n",
    "    \n",
    "    return angle_i\n",
    "\n",
    "def get_e(datafile):\n",
    "    angle_e = np.empty(datafile.shape[:-1])\n",
    "    \n",
    "    for i in range(len(datafile)):\n",
    "        for j in range(len(datafile[i])):\n",
    "            for k in  range(len(datafile[i,j])):\n",
    "                angle_e[i,j] = datafile[i,j,3]\n",
    "    angle_e = angle_e.reshape((angle_e.shape[0], angle_e.shape[1], 1))\n",
    "    \n",
    "    return angle_e\n",
    "\n",
    "def get_Lsat(datafile):\n",
    "    L_sat = np.empty(datafile.shape[:-1])\n",
    "    \n",
    "    for i in range(len(datafile)):\n",
    "        for j in range(len(datafile[i])):\n",
    "            for k in  range(len(datafile[i,j])):\n",
    "                L_sat[i,j] = datafile[i,j,6]\n",
    "    L_sat = L_sat.reshape((L_sat.shape[0], L_sat.shape[1], 1))\n",
    "    \n",
    "    return L_sat\n",
    "\n",
    "def get_Lsun(datafile):\n",
    "    L_sun = np.empty(datafile.shape[:-1])\n",
    "    \n",
    "    for i in range(len(datafile)):\n",
    "        for j in range(len(datafile[i])):\n",
    "            for k in  range(len(datafile[i,j])):\n",
    "                L_sun[i,j] = datafile[i,j,6]\n",
    "    L_sun = L_sun.reshape((L_sun.shape[0], L_sun.shape[1], 1))\n",
    "    \n",
    "    return L_sun\n",
    "\n",
    "\n",
    "def flux_correction(data, flux, band):\n",
    "    corrected_data = np.zeros((data.shape[0],data.shape[1], 1))\n",
    "    for i in tqdm(range(len(data))):\n",
    "        for j in range(len(data[i])):\n",
    "            corrected_data[i,j,0] = (data[i,j,band]/flux[band]) * np.pi \n",
    "    corrected_data = corrected_data.reshape(1,-1)\n",
    "    corrected_data = np.squeeze(corrected_data)  \n",
    "    return corrected_data\n",
    "\n",
    "\n",
    "def splot_binned_data_wphase(binned_angle,binned_reflectance, band):\n",
    "    plt.scatter(binned_angle,binned_reflectance,marker='s', s=6)\n",
    "    plt.xlabel('Phase angle(binned and averaged)')\n",
    "    plt.ylabel('Reflectance(Averaged/binned)')\n",
    "    plt.title(f'Spectrum for {band}th band') \n",
    "    \n",
    "def binning(binned_matrix,i_data,e_data, phaseangle_data, corr_data):\n",
    "    \n",
    "    i_data = i_data.reshape(1,-1)\n",
    "    i_data = np.squeeze(i_data)\n",
    "    e_data = e_data.reshape(1,-1)\n",
    "    e_data = np.squeeze(e_data)\n",
    "    phaseangle_data = phaseangle_data.reshape(1,-1)\n",
    "    phaseangle_data = np.squeeze(phaseangle_data)\n",
    "    \n",
    "  # Last dimension stores sum of radiance and count of data points\n",
    "\n",
    "    # Round off the angles to the nearest integer and ensure they fall within the range [0, 120]\n",
    "    phase_angles = np.round(phaseangle_data).astype(int)\n",
    "    incidence_angles = np.round(i_data).astype(int)\n",
    "    emission_angles = np.round(e_data).astype(int)\n",
    "\n",
    "    # Iterate through each data point\n",
    "    for phase_angle, incidence_angle, emission_angle, radiance in zip(phase_angles, incidence_angles, emission_angles, corr_data):\n",
    "        # Update the corresponding bin in the binned_matrix\n",
    "        binned_matrix[phase_angle, incidence_angle, emission_angle, 0] = phase_angle\n",
    "        binned_matrix[phase_angle, incidence_angle, emission_angle, 1] = incidence_angle\n",
    "        binned_matrix[phase_angle, incidence_angle, emission_angle, 2] = emission_angle\n",
    "        binned_matrix[phase_angle, incidence_angle, emission_angle, 3] += radiance\n",
    "        binned_matrix[phase_angle, incidence_angle, emission_angle, 4] += 1\n",
    "        \n",
    "    return binned_matrix"
   ]
  },
  {
   "cell_type": "code",
   "execution_count": 2,
   "metadata": {},
   "outputs": [],
   "source": [
    "num_bins = 121 \n",
    "\n",
    "    # Initialize an empty array to store binned data\n",
    "binned_matrix = np.zeros((num_bins, num_bins, num_bins, 5))"
   ]
  },
  {
   "cell_type": "code",
   "execution_count": 3,
   "metadata": {},
   "outputs": [],
   "source": [
    "fluxdatafile = 'Data/m3_solarflux.txt'\n",
    "imgdatafile = 'Data\\OBS DATA\\m3g20081129t171431_v03_obs.hdr'          # 11\n",
    "rdndatafile = 'Data\\RDN data\\corr_i_m3g20081129t171431_v03_rdn.npy'\n",
    "band = 50\n",
    "binsize = 100\n",
    "flux, wavelengths = load_flux(fluxdatafile)\n",
    "img_data = load_hdr(imgdatafile)\n",
    "rdn_data = load_rdn(rdndatafile)\n",
    "phaseangle_data = get_phase_angle(img_data)\n",
    "i_data = get_i(img_data)\n",
    "e_data = get_e(img_data)\n",
    "L_sat = get_Lsat(img_data)\n",
    "L_sun = get_Lsun(img_data)\n"
   ]
  },
  {
   "cell_type": "code",
   "execution_count": 8,
   "metadata": {},
   "outputs": [
    {
     "data": {
      "text/plain": [
       "2022.662109"
      ]
     },
     "execution_count": 8,
     "metadata": {},
     "output_type": "execute_result"
    }
   ],
   "source": [
    "flux[0]"
   ]
  },
  {
   "cell_type": "code",
   "execution_count": 5,
   "metadata": {},
   "outputs": [
    {
     "data": {
      "text/plain": [
       "array([ 460.98999 ,  500.920013,  540.840027,  580.765015,  620.689941,\n",
       "        660.609985,  700.537537,  730.47998 ,  750.440002,  770.400024,\n",
       "        790.36499 ,  810.330017,  830.290039,  850.25    ,  870.209961,\n",
       "        890.174988,  910.140015,  930.099976,  950.059998,  970.02002 ,\n",
       "        989.97998 , 1009.950012, 1029.910034, 1049.869995, 1069.829956,\n",
       "       1089.790039, 1109.76001 , 1129.719971, 1149.679932, 1169.640015,\n",
       "       1189.599976, 1209.570068, 1229.530029, 1249.48999 , 1269.449951,\n",
       "       1289.410034, 1309.375   , 1329.339966, 1349.300049, 1369.26001 ,\n",
       "       1389.219971, 1409.185059, 1429.150024, 1449.109985, 1469.070068,\n",
       "       1489.030029, 1508.994995, 1528.959961, 1548.920044, 1578.859985,\n",
       "       1618.787598, 1658.710083, 1698.630005, 1738.560059, 1778.47998 ,\n",
       "       1818.405029, 1858.330078, 1898.25    , 1938.179932, 1978.099976,\n",
       "       2018.022461, 2057.949951, 2097.869873, 2137.797363, 2177.719971,\n",
       "       2217.642578, 2257.570068, 2297.48999 , 2337.414795, 2377.340088,\n",
       "       2417.26001 , 2457.189941, 2497.109863, 2537.034912, 2576.959961,\n",
       "       2616.879883, 2656.807617, 2696.72998 , 2736.652344, 2776.580078,\n",
       "       2816.5     , 2856.427246, 2896.350098, 2936.272461, 2976.199951])"
      ]
     },
     "execution_count": 5,
     "metadata": {},
     "output_type": "execute_result"
    }
   ],
   "source": [
    "wavelengths"
   ]
  },
  {
   "cell_type": "code",
   "execution_count": 4,
   "metadata": {},
   "outputs": [
    {
     "data": {
      "text/plain": [
       "770.400024"
      ]
     },
     "execution_count": 4,
     "metadata": {},
     "output_type": "execute_result"
    }
   ],
   "source": [
    "wavelengths[9]"
   ]
  },
  {
   "cell_type": "code",
   "execution_count": 10,
   "metadata": {},
   "outputs": [
    {
     "data": {
      "text/html": [
       "<div>\n",
       "<style scoped>\n",
       "    .dataframe tbody tr th:only-of-type {\n",
       "        vertical-align: middle;\n",
       "    }\n",
       "\n",
       "    .dataframe tbody tr th {\n",
       "        vertical-align: top;\n",
       "    }\n",
       "\n",
       "    .dataframe thead th {\n",
       "        text-align: right;\n",
       "    }\n",
       "</style>\n",
       "<table border=\"1\" class=\"dataframe\">\n",
       "  <thead>\n",
       "    <tr style=\"text-align: right;\">\n",
       "      <th></th>\n",
       "      <th>To-Sun Azimuth (deg)</th>\n",
       "      <th>To-Sun Zenith (deg)</th>\n",
       "      <th>To-M3 Azimuth (deg)</th>\n",
       "      <th>To-M3 Zenith (deg)</th>\n",
       "      <th>Phase (deg)</th>\n",
       "      <th>To-Sun Path Length (au-0.983748796177)</th>\n",
       "      <th>To-M3 Path Length (m)</th>\n",
       "      <th>Facet Slope (deg)</th>\n",
       "      <th>Facet Aspect (deg)</th>\n",
       "      <th>Facet Cos(i) (unitless)</th>\n",
       "    </tr>\n",
       "  </thead>\n",
       "  <tbody>\n",
       "    <tr>\n",
       "      <th>0</th>\n",
       "      <td>327.868561</td>\n",
       "      <td>31.682243</td>\n",
       "      <td>93.887314</td>\n",
       "      <td>12.124657</td>\n",
       "      <td>39.903957</td>\n",
       "      <td>-1.139751e-07</td>\n",
       "      <td>107386.765625</td>\n",
       "      <td>22.572660</td>\n",
       "      <td>172.967422</td>\n",
       "      <td>0.603216</td>\n",
       "    </tr>\n",
       "    <tr>\n",
       "      <th>1</th>\n",
       "      <td>327.859131</td>\n",
       "      <td>31.684753</td>\n",
       "      <td>93.918655</td>\n",
       "      <td>12.042387</td>\n",
       "      <td>39.850403</td>\n",
       "      <td>-1.136590e-07</td>\n",
       "      <td>107364.531250</td>\n",
       "      <td>22.673283</td>\n",
       "      <td>172.347290</td>\n",
       "      <td>0.600931</td>\n",
       "    </tr>\n",
       "    <tr>\n",
       "      <th>2</th>\n",
       "      <td>327.849701</td>\n",
       "      <td>31.687263</td>\n",
       "      <td>93.950317</td>\n",
       "      <td>11.960123</td>\n",
       "      <td>39.796890</td>\n",
       "      <td>-1.133403e-07</td>\n",
       "      <td>107342.992188</td>\n",
       "      <td>22.814390</td>\n",
       "      <td>171.867645</td>\n",
       "      <td>0.598314</td>\n",
       "    </tr>\n",
       "    <tr>\n",
       "      <th>3</th>\n",
       "      <td>327.840302</td>\n",
       "      <td>31.689770</td>\n",
       "      <td>93.982292</td>\n",
       "      <td>11.877869</td>\n",
       "      <td>39.743423</td>\n",
       "      <td>-1.130174e-07</td>\n",
       "      <td>107322.492188</td>\n",
       "      <td>23.037460</td>\n",
       "      <td>171.672089</td>\n",
       "      <td>0.594998</td>\n",
       "    </tr>\n",
       "    <tr>\n",
       "      <th>4</th>\n",
       "      <td>327.830902</td>\n",
       "      <td>31.692278</td>\n",
       "      <td>94.014603</td>\n",
       "      <td>11.795617</td>\n",
       "      <td>39.690006</td>\n",
       "      <td>-1.126940e-07</td>\n",
       "      <td>107302.265625</td>\n",
       "      <td>23.260284</td>\n",
       "      <td>171.484390</td>\n",
       "      <td>0.591684</td>\n",
       "    </tr>\n",
       "    <tr>\n",
       "      <th>...</th>\n",
       "      <td>...</td>\n",
       "      <td>...</td>\n",
       "      <td>...</td>\n",
       "      <td>...</td>\n",
       "      <td>...</td>\n",
       "      <td>...</td>\n",
       "      <td>...</td>\n",
       "      <td>...</td>\n",
       "      <td>...</td>\n",
       "      <td>...</td>\n",
       "    </tr>\n",
       "    <tr>\n",
       "      <th>76299</th>\n",
       "      <td>326.368073</td>\n",
       "      <td>33.590370</td>\n",
       "      <td>270.374084</td>\n",
       "      <td>12.538933</td>\n",
       "      <td>28.318735</td>\n",
       "      <td>1.043188e-07</td>\n",
       "      <td>108132.296875</td>\n",
       "      <td>12.804403</td>\n",
       "      <td>295.335327</td>\n",
       "      <td>0.917363</td>\n",
       "    </tr>\n",
       "    <tr>\n",
       "      <th>76300</th>\n",
       "      <td>326.360016</td>\n",
       "      <td>33.593285</td>\n",
       "      <td>270.403809</td>\n",
       "      <td>12.620965</td>\n",
       "      <td>28.292582</td>\n",
       "      <td>1.043807e-07</td>\n",
       "      <td>108116.234375</td>\n",
       "      <td>12.917583</td>\n",
       "      <td>295.110779</td>\n",
       "      <td>0.917649</td>\n",
       "    </tr>\n",
       "    <tr>\n",
       "      <th>76301</th>\n",
       "      <td>326.351685</td>\n",
       "      <td>33.596275</td>\n",
       "      <td>270.433167</td>\n",
       "      <td>12.703132</td>\n",
       "      <td>28.266575</td>\n",
       "      <td>1.045519e-07</td>\n",
       "      <td>108118.914062</td>\n",
       "      <td>13.010563</td>\n",
       "      <td>294.820312</td>\n",
       "      <td>0.917755</td>\n",
       "    </tr>\n",
       "    <tr>\n",
       "      <th>76302</th>\n",
       "      <td>326.343384</td>\n",
       "      <td>33.599262</td>\n",
       "      <td>270.462280</td>\n",
       "      <td>12.785294</td>\n",
       "      <td>28.240715</td>\n",
       "      <td>1.047177e-07</td>\n",
       "      <td>108120.843750</td>\n",
       "      <td>12.957898</td>\n",
       "      <td>294.515900</td>\n",
       "      <td>0.917147</td>\n",
       "    </tr>\n",
       "    <tr>\n",
       "      <th>76303</th>\n",
       "      <td>326.335022</td>\n",
       "      <td>33.602264</td>\n",
       "      <td>270.491119</td>\n",
       "      <td>12.867475</td>\n",
       "      <td>28.215002</td>\n",
       "      <td>1.048989e-07</td>\n",
       "      <td>108125.554688</td>\n",
       "      <td>12.638835</td>\n",
       "      <td>294.194427</td>\n",
       "      <td>0.915251</td>\n",
       "    </tr>\n",
       "  </tbody>\n",
       "</table>\n",
       "<p>76304 rows × 10 columns</p>\n",
       "</div>"
      ],
      "text/plain": [
       "       To-Sun Azimuth (deg)  To-Sun Zenith (deg)  To-M3 Azimuth (deg)  \\\n",
       "0                327.868561            31.682243            93.887314   \n",
       "1                327.859131            31.684753            93.918655   \n",
       "2                327.849701            31.687263            93.950317   \n",
       "3                327.840302            31.689770            93.982292   \n",
       "4                327.830902            31.692278            94.014603   \n",
       "...                     ...                  ...                  ...   \n",
       "76299            326.368073            33.590370           270.374084   \n",
       "76300            326.360016            33.593285           270.403809   \n",
       "76301            326.351685            33.596275           270.433167   \n",
       "76302            326.343384            33.599262           270.462280   \n",
       "76303            326.335022            33.602264           270.491119   \n",
       "\n",
       "       To-M3 Zenith (deg)  Phase (deg)  \\\n",
       "0               12.124657    39.903957   \n",
       "1               12.042387    39.850403   \n",
       "2               11.960123    39.796890   \n",
       "3               11.877869    39.743423   \n",
       "4               11.795617    39.690006   \n",
       "...                   ...          ...   \n",
       "76299           12.538933    28.318735   \n",
       "76300           12.620965    28.292582   \n",
       "76301           12.703132    28.266575   \n",
       "76302           12.785294    28.240715   \n",
       "76303           12.867475    28.215002   \n",
       "\n",
       "       To-Sun Path Length (au-0.983748796177)  To-M3 Path Length (m)  \\\n",
       "0                               -1.139751e-07          107386.765625   \n",
       "1                               -1.136590e-07          107364.531250   \n",
       "2                               -1.133403e-07          107342.992188   \n",
       "3                               -1.130174e-07          107322.492188   \n",
       "4                               -1.126940e-07          107302.265625   \n",
       "...                                       ...                    ...   \n",
       "76299                            1.043188e-07          108132.296875   \n",
       "76300                            1.043807e-07          108116.234375   \n",
       "76301                            1.045519e-07          108118.914062   \n",
       "76302                            1.047177e-07          108120.843750   \n",
       "76303                            1.048989e-07          108125.554688   \n",
       "\n",
       "       Facet Slope (deg)  Facet Aspect (deg)  Facet Cos(i) (unitless)  \n",
       "0              22.572660          172.967422                 0.603216  \n",
       "1              22.673283          172.347290                 0.600931  \n",
       "2              22.814390          171.867645                 0.598314  \n",
       "3              23.037460          171.672089                 0.594998  \n",
       "4              23.260284          171.484390                 0.591684  \n",
       "...                  ...                 ...                      ...  \n",
       "76299          12.804403          295.335327                 0.917363  \n",
       "76300          12.917583          295.110779                 0.917649  \n",
       "76301          13.010563          294.820312                 0.917755  \n",
       "76302          12.957898          294.515900                 0.917147  \n",
       "76303          12.638835          294.194427                 0.915251  \n",
       "\n",
       "[76304 rows x 10 columns]"
      ]
     },
     "execution_count": 10,
     "metadata": {},
     "output_type": "execute_result"
    }
   ],
   "source": [
    "get_metadata(imgdatafile)"
   ]
  },
  {
   "cell_type": "code",
   "execution_count": 6,
   "metadata": {},
   "outputs": [
    {
     "data": {
      "application/vnd.jupyter.widget-view+json": {
       "model_id": "3690150d649240e8ada6ba1fde6e6465",
       "version_major": 2,
       "version_minor": 0
      },
      "text/plain": [
       "  0%|          | 0/21 [00:00<?, ?it/s]"
      ]
     },
     "metadata": {},
     "output_type": "display_data"
    },
    {
     "data": {
      "application/vnd.jupyter.widget-view+json": {
       "model_id": "38dc418858ce464aa92e1f8798e18262",
       "version_major": 2,
       "version_minor": 0
      },
      "text/plain": [
       "  0%|          | 0/6203 [00:00<?, ?it/s]"
      ]
     },
     "metadata": {},
     "output_type": "display_data"
    },
    {
     "data": {
      "application/vnd.jupyter.widget-view+json": {
       "model_id": "d4f3554b2be340e2b1e37c35daea1713",
       "version_major": 2,
       "version_minor": 0
      },
      "text/plain": [
       "  0%|          | 0/251 [00:00<?, ?it/s]"
      ]
     },
     "metadata": {},
     "output_type": "display_data"
    },
    {
     "data": {
      "application/vnd.jupyter.widget-view+json": {
       "model_id": "fe787d7700d6450783fcc469ee63ac16",
       "version_major": 2,
       "version_minor": 0
      },
      "text/plain": [
       "  0%|          | 0/5636 [00:00<?, ?it/s]"
      ]
     },
     "metadata": {},
     "output_type": "display_data"
    },
    {
     "data": {
      "application/vnd.jupyter.widget-view+json": {
       "model_id": "b4162ecafa0f4d96b157a8d5d16e6edd",
       "version_major": 2,
       "version_minor": 0
      },
      "text/plain": [
       "  0%|          | 0/6198 [00:00<?, ?it/s]"
      ]
     },
     "metadata": {},
     "output_type": "display_data"
    },
    {
     "data": {
      "application/vnd.jupyter.widget-view+json": {
       "model_id": "d58faabe289c4f7eaea1fd4b947e7ae3",
       "version_major": 2,
       "version_minor": 0
      },
      "text/plain": [
       "  0%|          | 0/6129 [00:00<?, ?it/s]"
      ]
     },
     "metadata": {},
     "output_type": "display_data"
    },
    {
     "data": {
      "application/vnd.jupyter.widget-view+json": {
       "model_id": "10821394a83e4433a475dd5aab01246e",
       "version_major": 2,
       "version_minor": 0
      },
      "text/plain": [
       "  0%|          | 0/11936 [00:00<?, ?it/s]"
      ]
     },
     "metadata": {},
     "output_type": "display_data"
    },
    {
     "data": {
      "application/vnd.jupyter.widget-view+json": {
       "model_id": "c94796678a59439182daccf5030299dd",
       "version_major": 2,
       "version_minor": 0
      },
      "text/plain": [
       "  0%|          | 0/11935 [00:00<?, ?it/s]"
      ]
     },
     "metadata": {},
     "output_type": "display_data"
    },
    {
     "data": {
      "application/vnd.jupyter.widget-view+json": {
       "model_id": "af1599c086da4c08a2c4abb7336e35bd",
       "version_major": 2,
       "version_minor": 0
      },
      "text/plain": [
       "  0%|          | 0/25201 [00:00<?, ?it/s]"
      ]
     },
     "metadata": {},
     "output_type": "display_data"
    },
    {
     "data": {
      "application/vnd.jupyter.widget-view+json": {
       "model_id": "7626f6af158f4caaa77ad48f7c938fab",
       "version_major": 2,
       "version_minor": 0
      },
      "text/plain": [
       "  0%|          | 0/27048 [00:00<?, ?it/s]"
      ]
     },
     "metadata": {},
     "output_type": "display_data"
    },
    {
     "data": {
      "application/vnd.jupyter.widget-view+json": {
       "model_id": "c63149bb32a6484780f7fba96f936ccd",
       "version_major": 2,
       "version_minor": 0
      },
      "text/plain": [
       "  0%|          | 0/30250 [00:00<?, ?it/s]"
      ]
     },
     "metadata": {},
     "output_type": "display_data"
    },
    {
     "data": {
      "application/vnd.jupyter.widget-view+json": {
       "model_id": "23cccb06c692466496c901a62953637b",
       "version_major": 2,
       "version_minor": 0
      },
      "text/plain": [
       "  0%|          | 0/27549 [00:00<?, ?it/s]"
      ]
     },
     "metadata": {},
     "output_type": "display_data"
    },
    {
     "data": {
      "application/vnd.jupyter.widget-view+json": {
       "model_id": "8e04827e400a4510b3f269f9dd547a3e",
       "version_major": 2,
       "version_minor": 0
      },
      "text/plain": [
       "  0%|          | 0/21748 [00:00<?, ?it/s]"
      ]
     },
     "metadata": {},
     "output_type": "display_data"
    },
    {
     "data": {
      "application/vnd.jupyter.widget-view+json": {
       "model_id": "400758d5147e4e8bb61243f4758b6aa6",
       "version_major": 2,
       "version_minor": 0
      },
      "text/plain": [
       "  0%|          | 0/15446 [00:00<?, ?it/s]"
      ]
     },
     "metadata": {},
     "output_type": "display_data"
    },
    {
     "data": {
      "application/vnd.jupyter.widget-view+json": {
       "model_id": "a2e1bd242a174fb99ddbef70d0157e60",
       "version_major": 2,
       "version_minor": 0
      },
      "text/plain": [
       "  0%|          | 0/3685 [00:00<?, ?it/s]"
      ]
     },
     "metadata": {},
     "output_type": "display_data"
    },
    {
     "data": {
      "application/vnd.jupyter.widget-view+json": {
       "model_id": "5fc6ff51ce564ef4b53a3245fa3904dc",
       "version_major": 2,
       "version_minor": 0
      },
      "text/plain": [
       "  0%|          | 0/29792 [00:00<?, ?it/s]"
      ]
     },
     "metadata": {},
     "output_type": "display_data"
    },
    {
     "data": {
      "application/vnd.jupyter.widget-view+json": {
       "model_id": "a4f7528f0ba044f099d37a8a0ed5d845",
       "version_major": 2,
       "version_minor": 0
      },
      "text/plain": [
       "  0%|          | 0/30156 [00:00<?, ?it/s]"
      ]
     },
     "metadata": {},
     "output_type": "display_data"
    },
    {
     "data": {
      "application/vnd.jupyter.widget-view+json": {
       "model_id": "cc2903546f484d68aa1fd860b12cfe0c",
       "version_major": 2,
       "version_minor": 0
      },
      "text/plain": [
       "  0%|          | 0/14707 [00:00<?, ?it/s]"
      ]
     },
     "metadata": {},
     "output_type": "display_data"
    },
    {
     "data": {
      "application/vnd.jupyter.widget-view+json": {
       "model_id": "098c338d0975414d83b6db6d7ebc6ffc",
       "version_major": 2,
       "version_minor": 0
      },
      "text/plain": [
       "  0%|          | 0/15512 [00:00<?, ?it/s]"
      ]
     },
     "metadata": {},
     "output_type": "display_data"
    },
    {
     "data": {
      "application/vnd.jupyter.widget-view+json": {
       "model_id": "dcd4cebfd0df4a1f8913bc082d9ae225",
       "version_major": 2,
       "version_minor": 0
      },
      "text/plain": [
       "  0%|          | 0/30250 [00:00<?, ?it/s]"
      ]
     },
     "metadata": {},
     "output_type": "display_data"
    },
    {
     "data": {
      "application/vnd.jupyter.widget-view+json": {
       "model_id": "4d71b326264145f6bc8563022bbef290",
       "version_major": 2,
       "version_minor": 0
      },
      "text/plain": [
       "  0%|          | 0/30648 [00:00<?, ?it/s]"
      ]
     },
     "metadata": {},
     "output_type": "display_data"
    },
    {
     "data": {
      "application/vnd.jupyter.widget-view+json": {
       "model_id": "38a085cf59f642daa94f3d22f138225a",
       "version_major": 2,
       "version_minor": 0
      },
      "text/plain": [
       "  0%|          | 0/30250 [00:00<?, ?it/s]"
      ]
     },
     "metadata": {},
     "output_type": "display_data"
    }
   ],
   "source": [
    "num_bins = 121 \n",
    "\n",
    "    # Initialize an empty array to store binned data\n",
    "binned_matrix = np.zeros((num_bins, num_bins, num_bins, 5))\n",
    "import os\n",
    "import glob\n",
    "\n",
    "# Path to the folders containing the files\n",
    "obsdata = 'Data\\OBS DATA'\n",
    "rdndata = 'Data\\RDN data'\n",
    "\n",
    "# Get the list of files in each folder\n",
    "obs_files_ = os.listdir(obsdata)\n",
    "rdn_files = os.listdir(rdndata)\n",
    "obs_files = [file for file in obs_files_ if file.endswith(\".hdr\")]\n",
    "\n",
    "\n",
    "\n",
    "\n",
    "# Iterate over the files in both folders simultaneously\n",
    "for file1, file2 in tqdm(zip(obs_files, rdn_files), total=len(obs_files)):\n",
    "    # Construct the full paths to the files\n",
    "    obs_path = os.path.join(obsdata, file1)\n",
    "    rdn_path = os.path.join(rdndata, file2)\n",
    "\n",
    "    img_datafile = obs_path\n",
    "    rdn_datafile = rdn_path\n",
    "    fluxdatafile = 'Data/m3_solarflux.txt'\n",
    "    imgdatafile = obs_path\n",
    "    rdndatafile = rdn_path\n",
    "    band = 9\n",
    "    flux, wavelengths = load_flux(fluxdatafile)\n",
    "    img_data = load_hdr(imgdatafile)\n",
    "    rdn_data = load_rdn(rdndatafile)\n",
    "    phaseangle_data = get_phase_angle(img_data)\n",
    "    i_data = get_i(img_data)\n",
    "    e_data = get_e(img_data)\n",
    "    corr_data = flux_correction(rdn_data, flux, band)\n",
    "    \n",
    "    binned_matrix = binning(binned_matrix, i_data, e_data, phaseangle_data, corr_data)\n",
    "    "
   ]
  },
  {
   "cell_type": "code",
   "execution_count": 7,
   "metadata": {},
   "outputs": [
    {
     "data": {
      "text/plain": [
       "Text(0.5, 1.0, 'Reflectance spectra')"
      ]
     },
     "execution_count": 7,
     "metadata": {},
     "output_type": "execute_result"
    },
    {
     "data": {
      "image/png": "[encoded data removed]",
      "text/plain": [
       "<Figure size 640x480 with 1 Axes>"
      ]
     },
     "metadata": {},
     "output_type": "display_data"
    }
   ],
   "source": [
    "bined_matrix = np.copy(binned_matrix)\n",
    "for i in range(num_bins):\n",
    "    for j in range(num_bins):\n",
    "        for k in range(num_bins):\n",
    "            # Check if the bin has any data points\n",
    "            if bined_matrix[i, j, k, 1] != 0:\n",
    "                # Calculate the average radiance\n",
    "                bined_matrix[i, j, k, 3] /= bined_matrix[i, j, k, 4]\n",
    "\n",
    "\n",
    "nonzero_indices = np.nonzero((bined_matrix[:, :, :, 3] != 0) | (bined_matrix[:, :, :, 4] != 0))\n",
    "\n",
    "#Create a new matrix to store only the non-zero elements\n",
    "bin_matrix = bined_matrix[nonzero_indices]\n",
    "plt.scatter(bin_matrix[:,0], bin_matrix[:,3], marker='s', s=5)\n",
    "plt.xlabel('phase angle')\n",
    "plt.ylabel('Reflectance')\n",
    "plt.title('Reflectance spectra')\n"
   ]
  },
  {
   "cell_type": "code",
   "execution_count": 8,
   "metadata": {},
   "outputs": [],
   "source": [
    "np.savetxt('10thband.txt', bin_matrix)"
   ]
  },
  {
   "cell_type": "code",
   "execution_count": 14,
   "metadata": {},
   "outputs": [
    {
     "data": {
      "text/plain": [
       "(array([], dtype=int64),)"
      ]
     },
     "execution_count": 14,
     "metadata": {},
     "output_type": "execute_result"
    }
   ],
   "source": [
    "np.where(bin_matrix[:,3]>1)"
   ]
  }
 ],
 "metadata": {
  "kernelspec": {
   "display_name": "base",
   "language": "python",
   "name": "python3"
  },
  "language_info": {
   "codemirror_mode": {
    "name": "ipython",
    "version": 3
   },
   "file_extension": ".py",
   "mimetype": "text/x-python",
   "name": "python",
   "nbconvert_exporter": "python",
   "pygments_lexer": "ipython3",
   "version": "3.11.5"
  }
 },
 "nbformat": 4,
 "nbformat_minor": 2
}
